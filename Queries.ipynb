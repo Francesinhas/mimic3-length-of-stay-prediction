{
 "cells": [
  {
   "cell_type": "markdown",
   "metadata": {},
   "source": [
    "### SQL for extracting items in order of appearance"
   ]
  },
  {
   "cell_type": "code",
   "execution_count": null,
   "metadata": {
    "vscode": {
     "languageId": "sql"
    }
   },
   "outputs": [],
   "source": [
    "SELECT \n",
    "      ROW_NUMBER() OVER (ORDER BY COUNT(*) DESC) AS rank,\n",
    "      ce.ITEMID,\n",
    "      di.LABEL AS item_name,\n",
    "      ce.VALUEUOM,\n",
    "      COUNT(*) AS entry_count\n",
    "  FROM read_csv_auto('norm_pneumonia.csv', header=true) AS ce\n",
    "  JOIN read_csv_auto('D_ITEMS.csv', header=true) AS di\n",
    "    ON ce.ITEMID = di.ITEMID\n",
    "  GROUP BY ce.ITEMID, di.LABEL, ce.VALUEUOM\n",
    "  ORDER BY entry_count DESC;\n"
   ]
  },
  {
   "cell_type": "markdown",
   "metadata": {},
   "source": [
    "### SQL for sorting relevant (with CHARTEVENTS data) icu stays based on LOS"
   ]
  },
  {
   "cell_type": "code",
   "execution_count": null,
   "metadata": {
    "vscode": {
     "languageId": "sql"
    }
   },
   "outputs": [],
   "source": [
    "SELECT\n",
    "    icu.ICUSTAY_ID,\n",
    "    icu.SUBJECT_ID,\n",
    "    icu.HADM_ID,\n",
    "    icu.INTIME,\n",
    "    icu.OUTTIME,\n",
    "    icu.LOS\n",
    "FROM read_csv_auto('ICUSTAYS.csv', header=true) AS icu\n",
    "JOIN read_csv_auto('DIAGNOSES_ICD.csv', header=true) AS diag\n",
    "    ON icu.HADM_ID = diag.HADM_ID AND icu.SUBJECT_ID = diag.SUBJECT_ID\n",
    "WHERE diag.ICD9_CODE = '48283'\n",
    "    AND icu.ICUSTAY_ID IN (\n",
    "    SELECT DISTINCT ce.ICUSTAY_ID\n",
    "    FROM read_csv_auto('CHARTEVENTS.csv', header=true, ignore_errors=true) AS ce\n",
    "    WHERE ce.ICUSTAY_ID IS NOT NULL\n",
    "    )\n",
    "ORDER BY icu.LOS ASC\n"
   ]
  }
 ],
 "metadata": {
  "language_info": {
   "name": "python"
  }
 },
 "nbformat": 4,
 "nbformat_minor": 2
}
