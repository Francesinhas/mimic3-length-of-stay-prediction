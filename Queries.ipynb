{
 "cells": [
  {
   "cell_type": "markdown",
   "metadata": {},
   "source": [
    "### SQL for extracting items in order of appearance"
   ]
  },
  {
   "cell_type": "code",
   "execution_count": null,
   "metadata": {
    "vscode": {
     "languageId": "sql"
    }
   },
   "outputs": [],
   "source": [
    "SELECT \n",
    "      ROW_NUMBER() OVER (ORDER BY COUNT(*) DESC) AS rank,\n",
    "      ce.ITEMID,\n",
    "      di.LABEL AS item_name,\n",
    "      ce.VALUEUOM,\n",
    "      COUNT(*) AS entry_count\n",
    "  FROM read_csv_auto('norm_pneumonia.csv', header=true) AS ce\n",
    "  JOIN read_csv_auto('D_ITEMS.csv', header=true) AS di\n",
    "    ON ce.ITEMID = di.ITEMID\n",
    "  GROUP BY ce.ITEMID, di.LABEL, ce.VALUEUOM\n",
    "  ORDER BY entry_count DESC;\n"
   ]
  }
 ],
 "metadata": {
  "language_info": {
   "name": "python"
  }
 },
 "nbformat": 4,
 "nbformat_minor": 2
}
