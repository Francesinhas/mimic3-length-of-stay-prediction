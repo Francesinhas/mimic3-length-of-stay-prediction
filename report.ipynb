{
 "cells": [
  {
   "cell_type": "markdown",
   "metadata": {},
   "source": [
    "## **Data Preprocessing**\n"
   ]
  },
  {
   "cell_type": "markdown",
   "metadata": {},
   "source": [
    "### **!!!!! TODO INTRODUCERE IN DATA PREPROCESSING!!!!**"
   ]
  },
  {
   "cell_type": "markdown",
   "metadata": {},
   "source": [
    "#### **Loading relational MIMIC3 tables**"
   ]
  },
  {
   "cell_type": "markdown",
   "metadata": {},
   "source": [
    "- Importing the files with details of ICU patient episodes. "
   ]
  },
  {
   "cell_type": "code",
   "execution_count": 205,
   "metadata": {},
   "outputs": [],
   "source": [
    "import pandas as pd\n",
    "import matplotlib.pyplot as plt\n",
    "\n",
    "data_path = \"./data_sets/\"\n",
    "\n",
    "df_patients= pd.read_csv(data_path + 'PATIENTS.csv.gz')        \n",
    "df_admissions = pd.read_csv(data_path + 'ADMISSIONS.csv.gz')           # Item descriptions\n",
    "df_icustays = pd.read_csv(data_path + 'ICUSTAYS.csv.gz')        # ICU stay times\n",
    "df_diagnoses = pd.read_csv(data_path + 'DIAGNOSES_ICD.csv.gz', low_memory=False) # Chart "
   ]
  },
  {
   "cell_type": "markdown",
   "metadata": {},
   "source": [
    "##### TODO choosing the disease\n",
    "- Filtering for ICD-9 code 48283, corresponding to bacterial pneumonia.\n",
    "- High ICU admission rates -> clinically and epidemiologically relevant for LOS modeling.\n",
    "- 264 rows = 264 hospital admissions found."
   ]
  },
  {
   "cell_type": "code",
   "execution_count": 206,
   "metadata": {},
   "outputs": [
    {
     "name": "stdout",
     "output_type": "stream",
     "text": [
      "(264, 3)\n"
     ]
    },
    {
     "data": {
      "text/html": [
       "<div>\n",
       "<style scoped>\n",
       "    .dataframe tbody tr th:only-of-type {\n",
       "        vertical-align: middle;\n",
       "    }\n",
       "\n",
       "    .dataframe tbody tr th {\n",
       "        vertical-align: top;\n",
       "    }\n",
       "\n",
       "    .dataframe thead th {\n",
       "        text-align: right;\n",
       "    }\n",
       "</style>\n",
       "<table border=\"1\" class=\"dataframe\">\n",
       "  <thead>\n",
       "    <tr style=\"text-align: right;\">\n",
       "      <th></th>\n",
       "      <th>SUBJECT_ID</th>\n",
       "      <th>HADM_ID</th>\n",
       "      <th>ICD9_CODE</th>\n",
       "    </tr>\n",
       "  </thead>\n",
       "  <tbody>\n",
       "    <tr>\n",
       "      <th>38</th>\n",
       "      <td>114</td>\n",
       "      <td>178393</td>\n",
       "      <td>48283</td>\n",
       "    </tr>\n",
       "    <tr>\n",
       "      <th>4202</th>\n",
       "      <td>339</td>\n",
       "      <td>112625</td>\n",
       "      <td>48283</td>\n",
       "    </tr>\n",
       "    <tr>\n",
       "      <th>5063</th>\n",
       "      <td>285</td>\n",
       "      <td>165312</td>\n",
       "      <td>48283</td>\n",
       "    </tr>\n",
       "    <tr>\n",
       "      <th>7541</th>\n",
       "      <td>605</td>\n",
       "      <td>115545</td>\n",
       "      <td>48283</td>\n",
       "    </tr>\n",
       "    <tr>\n",
       "      <th>8075</th>\n",
       "      <td>720</td>\n",
       "      <td>171046</td>\n",
       "      <td>48283</td>\n",
       "    </tr>\n",
       "  </tbody>\n",
       "</table>\n",
       "</div>"
      ],
      "text/plain": [
       "      SUBJECT_ID  HADM_ID ICD9_CODE\n",
       "38           114   178393     48283\n",
       "4202         339   112625     48283\n",
       "5063         285   165312     48283\n",
       "7541         605   115545     48283\n",
       "8075         720   171046     48283"
      ]
     },
     "execution_count": 206,
     "metadata": {},
     "output_type": "execute_result"
    }
   ],
   "source": [
    "# Filter for Pneumonia (ICD-9 = 48283)\n",
    "df_target = df_diagnoses[df_diagnoses['ICD9_CODE'] == '48283'][['SUBJECT_ID', 'HADM_ID', 'ICD9_CODE']]\n",
    "\n",
    "print(df_target.shape)\n",
    "\n",
    "df_target.head()"
   ]
  },
  {
   "cell_type": "markdown",
   "metadata": {},
   "source": [
    "#### **Joining tables**"
   ]
  },
  {
   "cell_type": "markdown",
   "metadata": {},
   "source": [
    "- Joining admissions with the respective patient data"
   ]
  },
  {
   "cell_type": "code",
   "execution_count": 207,
   "metadata": {},
   "outputs": [
    {
     "name": "stdout",
     "output_type": "stream",
     "text": [
      "(264, 6)\n"
     ]
    },
    {
     "data": {
      "text/html": [
       "<div>\n",
       "<style scoped>\n",
       "    .dataframe tbody tr th:only-of-type {\n",
       "        vertical-align: middle;\n",
       "    }\n",
       "\n",
       "    .dataframe tbody tr th {\n",
       "        vertical-align: top;\n",
       "    }\n",
       "\n",
       "    .dataframe thead th {\n",
       "        text-align: right;\n",
       "    }\n",
       "</style>\n",
       "<table border=\"1\" class=\"dataframe\">\n",
       "  <thead>\n",
       "    <tr style=\"text-align: right;\">\n",
       "      <th></th>\n",
       "      <th>SUBJECT_ID</th>\n",
       "      <th>HADM_ID</th>\n",
       "      <th>ICD9_CODE</th>\n",
       "      <th>ADMITTIME</th>\n",
       "      <th>DISCHTIME</th>\n",
       "      <th>ADMISSION_TYPE</th>\n",
       "    </tr>\n",
       "  </thead>\n",
       "  <tbody>\n",
       "    <tr>\n",
       "      <th>0</th>\n",
       "      <td>114</td>\n",
       "      <td>178393</td>\n",
       "      <td>48283</td>\n",
       "      <td>2146-08-29 01:18:00</td>\n",
       "      <td>2146-09-03 16:06:00</td>\n",
       "      <td>ELECTIVE</td>\n",
       "    </tr>\n",
       "    <tr>\n",
       "      <th>1</th>\n",
       "      <td>339</td>\n",
       "      <td>112625</td>\n",
       "      <td>48283</td>\n",
       "      <td>2187-04-20 23:10:00</td>\n",
       "      <td>2187-06-19 13:20:00</td>\n",
       "      <td>EMERGENCY</td>\n",
       "    </tr>\n",
       "    <tr>\n",
       "      <th>2</th>\n",
       "      <td>285</td>\n",
       "      <td>165312</td>\n",
       "      <td>48283</td>\n",
       "      <td>2152-09-21 22:47:00</td>\n",
       "      <td>2152-10-20 15:19:00</td>\n",
       "      <td>EMERGENCY</td>\n",
       "    </tr>\n",
       "    <tr>\n",
       "      <th>3</th>\n",
       "      <td>605</td>\n",
       "      <td>115545</td>\n",
       "      <td>48283</td>\n",
       "      <td>2197-11-09 12:59:00</td>\n",
       "      <td>2197-11-26 09:36:00</td>\n",
       "      <td>EMERGENCY</td>\n",
       "    </tr>\n",
       "    <tr>\n",
       "      <th>4</th>\n",
       "      <td>720</td>\n",
       "      <td>171046</td>\n",
       "      <td>48283</td>\n",
       "      <td>2160-02-15 21:44:00</td>\n",
       "      <td>2160-04-07 13:05:00</td>\n",
       "      <td>EMERGENCY</td>\n",
       "    </tr>\n",
       "  </tbody>\n",
       "</table>\n",
       "</div>"
      ],
      "text/plain": [
       "   SUBJECT_ID  HADM_ID ICD9_CODE            ADMITTIME            DISCHTIME  \\\n",
       "0         114   178393     48283  2146-08-29 01:18:00  2146-09-03 16:06:00   \n",
       "1         339   112625     48283  2187-04-20 23:10:00  2187-06-19 13:20:00   \n",
       "2         285   165312     48283  2152-09-21 22:47:00  2152-10-20 15:19:00   \n",
       "3         605   115545     48283  2197-11-09 12:59:00  2197-11-26 09:36:00   \n",
       "4         720   171046     48283  2160-02-15 21:44:00  2160-04-07 13:05:00   \n",
       "\n",
       "  ADMISSION_TYPE  \n",
       "0       ELECTIVE  \n",
       "1      EMERGENCY  \n",
       "2      EMERGENCY  \n",
       "3      EMERGENCY  \n",
       "4      EMERGENCY  "
      ]
     },
     "execution_count": 207,
     "metadata": {},
     "output_type": "execute_result"
    }
   ],
   "source": [
    "# Merge with admissions to get LOS\n",
    "df_merged = pd.merge(\n",
    "    df_target,\n",
    "    df_admissions[['SUBJECT_ID', 'HADM_ID', 'ADMITTIME', 'DISCHTIME', 'ADMISSION_TYPE']],\n",
    "    on=['SUBJECT_ID', 'HADM_ID'],\n",
    "    how='left'\n",
    ")\n",
    "print(df_merged.shape)\n",
    "df_merged.head()"
   ]
  },
  {
   "cell_type": "markdown",
   "metadata": {},
   "source": [
    "- Joining table with ICU stays\n",
    "- Appending relevant patient demographics that influence the prediction"
   ]
  },
  {
   "cell_type": "code",
   "execution_count": 208,
   "metadata": {},
   "outputs": [
    {
     "data": {
      "text/plain": [
       "SUBJECT_ID        0\n",
       "HADM_ID           0\n",
       "ICD9_CODE         0\n",
       "ADMITTIME         0\n",
       "DISCHTIME         0\n",
       "ADMISSION_TYPE    0\n",
       "ICUSTAY_ID        0\n",
       "INTIME            0\n",
       "OUTTIME           0\n",
       "LOS               0\n",
       "GENDER            0\n",
       "DOB               0\n",
       "dtype: int64"
      ]
     },
     "execution_count": 208,
     "metadata": {},
     "output_type": "execute_result"
    }
   ],
   "source": [
    "# Merge with ICU stays (if any)\n",
    "df_merged = pd.merge(\n",
    "    df_merged,\n",
    "    df_icustays[['SUBJECT_ID', 'HADM_ID', 'ICUSTAY_ID', 'INTIME', 'OUTTIME', 'LOS']],\n",
    "    on=['SUBJECT_ID', 'HADM_ID'],\n",
    "    how='left'\n",
    "\n",
    ")\n",
    "\n",
    "# Add patient demographics (optional)\n",
    "df_merged = pd.merge(\n",
    "    df_merged,\n",
    "    df_patients[['SUBJECT_ID', 'GENDER', 'DOB']],\n",
    "    on='SUBJECT_ID',\n",
    "    how='left'\n",
    ")\n",
    "\n",
    "df_merged.isnull().sum()\n"
   ]
  },
  {
   "cell_type": "markdown",
   "metadata": {},
   "source": [
    "#### **Feature Derivation and Data Filtering**"
   ]
  },
  {
   "cell_type": "markdown",
   "metadata": {},
   "source": [
    "- Age is estimated using admission and birth year due to incomplete date precision in MIMIC-III.\n",
    "- HIPAA constraints on patients ≥89 are mitigated by recoding to 91.\n",
    "- Short stays (<1 day) and extreme LOS outliers are excluded to reduce heteroscedasticity and improve model generalizability."
   ]
  },
  {
   "cell_type": "code",
   "execution_count": 209,
   "metadata": {},
   "outputs": [
    {
     "data": {
      "text/html": [
       "<div>\n",
       "<style scoped>\n",
       "    .dataframe tbody tr th:only-of-type {\n",
       "        vertical-align: middle;\n",
       "    }\n",
       "\n",
       "    .dataframe tbody tr th {\n",
       "        vertical-align: top;\n",
       "    }\n",
       "\n",
       "    .dataframe thead th {\n",
       "        text-align: right;\n",
       "    }\n",
       "</style>\n",
       "<table border=\"1\" class=\"dataframe\">\n",
       "  <thead>\n",
       "    <tr style=\"text-align: right;\">\n",
       "      <th></th>\n",
       "      <th>SUBJECT_ID</th>\n",
       "      <th>HADM_ID</th>\n",
       "      <th>ICD9_CODE</th>\n",
       "      <th>ADMITTIME</th>\n",
       "      <th>DISCHTIME</th>\n",
       "      <th>ADMISSION_TYPE</th>\n",
       "      <th>ICUSTAY_ID</th>\n",
       "      <th>INTIME</th>\n",
       "      <th>OUTTIME</th>\n",
       "      <th>LOS</th>\n",
       "      <th>GENDER</th>\n",
       "      <th>DOB</th>\n",
       "      <th>age</th>\n",
       "    </tr>\n",
       "  </thead>\n",
       "  <tbody>\n",
       "    <tr>\n",
       "      <th>0</th>\n",
       "      <td>114</td>\n",
       "      <td>178393</td>\n",
       "      <td>48283</td>\n",
       "      <td>2146-08-29 01:18:00</td>\n",
       "      <td>2146-09-03 16:06:00</td>\n",
       "      <td>ELECTIVE</td>\n",
       "      <td>258626</td>\n",
       "      <td>2146-08-29 17:59:00</td>\n",
       "      <td>2146-08-31 13:30:00</td>\n",
       "      <td>1.8132</td>\n",
       "      <td>M</td>\n",
       "      <td>2098-05-09</td>\n",
       "      <td>48</td>\n",
       "    </tr>\n",
       "    <tr>\n",
       "      <th>1</th>\n",
       "      <td>339</td>\n",
       "      <td>112625</td>\n",
       "      <td>48283</td>\n",
       "      <td>2187-04-20 23:10:00</td>\n",
       "      <td>2187-06-19 13:20:00</td>\n",
       "      <td>EMERGENCY</td>\n",
       "      <td>221278</td>\n",
       "      <td>2187-04-20 23:10:50</td>\n",
       "      <td>2187-05-22 16:01:27</td>\n",
       "      <td>31.7018</td>\n",
       "      <td>F</td>\n",
       "      <td>2120-07-17</td>\n",
       "      <td>67</td>\n",
       "    </tr>\n",
       "    <tr>\n",
       "      <th>2</th>\n",
       "      <td>285</td>\n",
       "      <td>165312</td>\n",
       "      <td>48283</td>\n",
       "      <td>2152-09-21 22:47:00</td>\n",
       "      <td>2152-10-20 15:19:00</td>\n",
       "      <td>EMERGENCY</td>\n",
       "      <td>238023</td>\n",
       "      <td>2152-09-21 22:48:50</td>\n",
       "      <td>2152-10-20 15:19:31</td>\n",
       "      <td>28.6880</td>\n",
       "      <td>M</td>\n",
       "      <td>2107-05-16</td>\n",
       "      <td>45</td>\n",
       "    </tr>\n",
       "    <tr>\n",
       "      <th>3</th>\n",
       "      <td>605</td>\n",
       "      <td>115545</td>\n",
       "      <td>48283</td>\n",
       "      <td>2197-11-09 12:59:00</td>\n",
       "      <td>2197-11-26 09:36:00</td>\n",
       "      <td>EMERGENCY</td>\n",
       "      <td>248569</td>\n",
       "      <td>2197-11-09 13:00:45</td>\n",
       "      <td>2197-11-26 09:38:48</td>\n",
       "      <td>16.8598</td>\n",
       "      <td>F</td>\n",
       "      <td>1895-04-05</td>\n",
       "      <td>91</td>\n",
       "    </tr>\n",
       "    <tr>\n",
       "      <th>4</th>\n",
       "      <td>720</td>\n",
       "      <td>171046</td>\n",
       "      <td>48283</td>\n",
       "      <td>2160-02-15 21:44:00</td>\n",
       "      <td>2160-04-07 13:05:00</td>\n",
       "      <td>EMERGENCY</td>\n",
       "      <td>261862</td>\n",
       "      <td>2160-02-15 21:45:04</td>\n",
       "      <td>2160-04-04 19:57:31</td>\n",
       "      <td>48.9253</td>\n",
       "      <td>F</td>\n",
       "      <td>2108-08-25</td>\n",
       "      <td>52</td>\n",
       "    </tr>\n",
       "  </tbody>\n",
       "</table>\n",
       "</div>"
      ],
      "text/plain": [
       "   SUBJECT_ID  HADM_ID ICD9_CODE           ADMITTIME            DISCHTIME  \\\n",
       "0         114   178393     48283 2146-08-29 01:18:00  2146-09-03 16:06:00   \n",
       "1         339   112625     48283 2187-04-20 23:10:00  2187-06-19 13:20:00   \n",
       "2         285   165312     48283 2152-09-21 22:47:00  2152-10-20 15:19:00   \n",
       "3         605   115545     48283 2197-11-09 12:59:00  2197-11-26 09:36:00   \n",
       "4         720   171046     48283 2160-02-15 21:44:00  2160-04-07 13:05:00   \n",
       "\n",
       "  ADMISSION_TYPE  ICUSTAY_ID               INTIME              OUTTIME  \\\n",
       "0       ELECTIVE      258626  2146-08-29 17:59:00  2146-08-31 13:30:00   \n",
       "1      EMERGENCY      221278  2187-04-20 23:10:50  2187-05-22 16:01:27   \n",
       "2      EMERGENCY      238023  2152-09-21 22:48:50  2152-10-20 15:19:31   \n",
       "3      EMERGENCY      248569  2197-11-09 13:00:45  2197-11-26 09:38:48   \n",
       "4      EMERGENCY      261862  2160-02-15 21:45:04  2160-04-04 19:57:31   \n",
       "\n",
       "       LOS GENDER        DOB  age  \n",
       "0   1.8132      M 2098-05-09   48  \n",
       "1  31.7018      F 2120-07-17   67  \n",
       "2  28.6880      M 2107-05-16   45  \n",
       "3  16.8598      F 1895-04-05   91  \n",
       "4  48.9253      F 2108-08-25   52  "
      ]
     },
     "execution_count": 209,
     "metadata": {},
     "output_type": "execute_result"
    }
   ],
   "source": [
    "df_merged['ADMITTIME'] = pd.to_datetime(df_merged['ADMITTIME'])\n",
    "df_merged['DOB'] = pd.to_datetime(df_merged['DOB'])\n",
    "\n",
    "# Subtract the years\n",
    "df_merged['age'] = df_merged['ADMITTIME'].dt.year - df_merged['DOB'].dt.year\n",
    "df_merged.loc[df_merged['age'] > 89, 'age'] = 91  # Handle MIMIC-III's >89 group\n",
    "\n",
    "df_merged = df_merged[df_merged['LOS'] > 1]\n",
    "\n",
    "df_merged = df_merged.drop(df_merged['LOS'].idxmax())\n",
    "df_merged = df_merged.drop(df_merged['LOS'].idxmax())\n",
    "    \n",
    "\n",
    "df_merged.head()"
   ]
  },
  {
   "cell_type": "markdown",
   "metadata": {},
   "source": [
    "#### **Exploratory Cohort Profiling**"
   ]
  },
  {
   "cell_type": "markdown",
   "metadata": {},
   "source": [
    "- To examine the distributional extremes of ICU length of stay (LOS), the dataset was sorted in both ascending and descending order.\n",
    "- Sorting to easily choose 3 patients for closely examining and charting."
   ]
  },
  {
   "cell_type": "code",
   "execution_count": 210,
   "metadata": {},
   "outputs": [
    {
     "name": "stdout",
     "output_type": "stream",
     "text": [
      "Top 5 Shortest LOS:\n",
      "     SUBJECT_ID  HADM_ID  ICUSTAY_ID     LOS               INTIME  \\\n",
      "287       87980   110615      243965  1.1159  2142-05-02 15:03:18   \n",
      "291       94937   162005      280084  1.1432  2107-01-18 11:11:21   \n",
      "244       63941   126602      270748  1.1496  2196-04-23 14:49:48   \n",
      "14         3078   147024      272986  1.1541  2175-12-09 15:03:51   \n",
      "29         5062   123244      250261  1.2110  2100-12-10 12:50:48   \n",
      "\n",
      "                 OUTTIME  age  \n",
      "287  2142-05-03 17:50:10   66  \n",
      "291  2107-01-19 14:37:37   68  \n",
      "244  2196-04-24 18:25:15   75  \n",
      "14   2175-12-10 18:45:49   47  \n",
      "29   2100-12-11 17:54:42   71  \n"
     ]
    }
   ],
   "source": [
    "df_ascending = df_merged.sort_values('LOS', ascending=True)\n",
    "print(\"Top 5 Shortest LOS:\")\n",
    "print(df_ascending[['SUBJECT_ID', 'HADM_ID','ICUSTAY_ID', 'LOS', 'INTIME', 'OUTTIME', 'age']].head())"
   ]
  },
  {
   "cell_type": "code",
   "execution_count": 211,
   "metadata": {},
   "outputs": [
    {
     "name": "stdout",
     "output_type": "stream",
     "text": [
      "\n",
      "Top 5 Longest LOS:\n",
      "     SUBJECT_ID  HADM_ID  ICUSTAY_ID      LOS  age\n",
      "53         7085   106726      283819  60.7469   42\n",
      "138       21312   150854      213825  55.6920   76\n",
      "140       22818   188392      241236  55.6687   73\n",
      "41         4196   114944      249095  54.8424   80\n",
      "180       26688   129259      299382  51.0566   58\n"
     ]
    }
   ],
   "source": [
    "df_descending = df_merged.sort_values('LOS', ascending=False)\n",
    "print(\"\\nTop 5 Longest LOS:\")\n",
    "print(df_descending[['SUBJECT_ID', 'HADM_ID','ICUSTAY_ID', 'LOS', 'age']].head())"
   ]
  },
  {
   "cell_type": "markdown",
   "metadata": {},
   "source": [
    "- ```.shape``` indicating the ICU stays\n",
    "- ```.describe``` used for inspecting the statistics (mostly LOS and age) "
   ]
  },
  {
   "cell_type": "code",
   "execution_count": 212,
   "metadata": {},
   "outputs": [
    {
     "data": {
      "text/plain": [
       "(295, 13)"
      ]
     },
     "execution_count": 212,
     "metadata": {},
     "output_type": "execute_result"
    }
   ],
   "source": [
    "df_merged.shape"
   ]
  },
  {
   "cell_type": "code",
   "execution_count": 213,
   "metadata": {},
   "outputs": [
    {
     "data": {
      "text/html": [
       "<div>\n",
       "<style scoped>\n",
       "    .dataframe tbody tr th:only-of-type {\n",
       "        vertical-align: middle;\n",
       "    }\n",
       "\n",
       "    .dataframe tbody tr th {\n",
       "        vertical-align: top;\n",
       "    }\n",
       "\n",
       "    .dataframe thead th {\n",
       "        text-align: right;\n",
       "    }\n",
       "</style>\n",
       "<table border=\"1\" class=\"dataframe\">\n",
       "  <thead>\n",
       "    <tr style=\"text-align: right;\">\n",
       "      <th></th>\n",
       "      <th>count</th>\n",
       "      <th>mean</th>\n",
       "      <th>min</th>\n",
       "      <th>25%</th>\n",
       "      <th>50%</th>\n",
       "      <th>75%</th>\n",
       "      <th>max</th>\n",
       "      <th>std</th>\n",
       "    </tr>\n",
       "  </thead>\n",
       "  <tbody>\n",
       "    <tr>\n",
       "      <th>SUBJECT_ID</th>\n",
       "      <td>295.0</td>\n",
       "      <td>33410.108475</td>\n",
       "      <td>114.0</td>\n",
       "      <td>11283.5</td>\n",
       "      <td>25541.0</td>\n",
       "      <td>49267.5</td>\n",
       "      <td>99715.0</td>\n",
       "      <td>28729.043193</td>\n",
       "    </tr>\n",
       "    <tr>\n",
       "      <th>HADM_ID</th>\n",
       "      <td>295.0</td>\n",
       "      <td>150115.684746</td>\n",
       "      <td>100395.0</td>\n",
       "      <td>124995.5</td>\n",
       "      <td>151960.0</td>\n",
       "      <td>174117.5</td>\n",
       "      <td>199845.0</td>\n",
       "      <td>27742.232113</td>\n",
       "    </tr>\n",
       "    <tr>\n",
       "      <th>ADMITTIME</th>\n",
       "      <td>295</td>\n",
       "      <td>2150-08-11 23:14:07.525424128</td>\n",
       "      <td>2100-11-30 02:51:00</td>\n",
       "      <td>2124-03-16 11:56:00</td>\n",
       "      <td>2150-04-21 07:15:00</td>\n",
       "      <td>2174-09-16 00:36:00</td>\n",
       "      <td>2207-12-13 20:56:00</td>\n",
       "      <td>NaN</td>\n",
       "    </tr>\n",
       "    <tr>\n",
       "      <th>ICUSTAY_ID</th>\n",
       "      <td>295.0</td>\n",
       "      <td>252478.494915</td>\n",
       "      <td>200387.0</td>\n",
       "      <td>231240.5</td>\n",
       "      <td>253774.0</td>\n",
       "      <td>275776.0</td>\n",
       "      <td>299728.0</td>\n",
       "      <td>28280.572249</td>\n",
       "    </tr>\n",
       "    <tr>\n",
       "      <th>LOS</th>\n",
       "      <td>295.0</td>\n",
       "      <td>15.485045</td>\n",
       "      <td>1.1159</td>\n",
       "      <td>5.09495</td>\n",
       "      <td>12.464</td>\n",
       "      <td>21.72955</td>\n",
       "      <td>60.7469</td>\n",
       "      <td>12.665445</td>\n",
       "    </tr>\n",
       "    <tr>\n",
       "      <th>DOB</th>\n",
       "      <td>295</td>\n",
       "      <td>2079-08-14 19:16:52.881355776</td>\n",
       "      <td>1805-12-07 00:00:00</td>\n",
       "      <td>2056-06-22 00:00:00</td>\n",
       "      <td>2088-03-22 00:00:00</td>\n",
       "      <td>2110-03-24 00:00:00</td>\n",
       "      <td>2173-02-23 00:00:00</td>\n",
       "      <td>NaN</td>\n",
       "    </tr>\n",
       "    <tr>\n",
       "      <th>age</th>\n",
       "      <td>295.0</td>\n",
       "      <td>65.220339</td>\n",
       "      <td>19.0</td>\n",
       "      <td>57.0</td>\n",
       "      <td>68.0</td>\n",
       "      <td>77.0</td>\n",
       "      <td>91.0</td>\n",
       "      <td>15.949397</td>\n",
       "    </tr>\n",
       "  </tbody>\n",
       "</table>\n",
       "</div>"
      ],
      "text/plain": [
       "            count                           mean                  min  \\\n",
       "SUBJECT_ID  295.0                   33410.108475                114.0   \n",
       "HADM_ID     295.0                  150115.684746             100395.0   \n",
       "ADMITTIME     295  2150-08-11 23:14:07.525424128  2100-11-30 02:51:00   \n",
       "ICUSTAY_ID  295.0                  252478.494915             200387.0   \n",
       "LOS         295.0                      15.485045               1.1159   \n",
       "DOB           295  2079-08-14 19:16:52.881355776  1805-12-07 00:00:00   \n",
       "age         295.0                      65.220339                 19.0   \n",
       "\n",
       "                            25%                  50%                  75%  \\\n",
       "SUBJECT_ID              11283.5              25541.0              49267.5   \n",
       "HADM_ID                124995.5             151960.0             174117.5   \n",
       "ADMITTIME   2124-03-16 11:56:00  2150-04-21 07:15:00  2174-09-16 00:36:00   \n",
       "ICUSTAY_ID             231240.5             253774.0             275776.0   \n",
       "LOS                     5.09495               12.464             21.72955   \n",
       "DOB         2056-06-22 00:00:00  2088-03-22 00:00:00  2110-03-24 00:00:00   \n",
       "age                        57.0                 68.0                 77.0   \n",
       "\n",
       "                            max           std  \n",
       "SUBJECT_ID              99715.0  28729.043193  \n",
       "HADM_ID                199845.0  27742.232113  \n",
       "ADMITTIME   2207-12-13 20:56:00           NaN  \n",
       "ICUSTAY_ID             299728.0  28280.572249  \n",
       "LOS                     60.7469     12.665445  \n",
       "DOB         2173-02-23 00:00:00           NaN  \n",
       "age                        91.0     15.949397  "
      ]
     },
     "execution_count": 213,
     "metadata": {},
     "output_type": "execute_result"
    }
   ],
   "source": [
    "df_merged.describe().T"
   ]
  },
  {
   "cell_type": "markdown",
   "metadata": {},
   "source": [
    "#### **Outcome Transformation**"
   ]
  },
  {
   "cell_type": "markdown",
   "metadata": {},
   "source": [
    "- Log-transformation of LOS stabilizes variance and addresses right-skew "
   ]
  },
  {
   "cell_type": "code",
   "execution_count": 214,
   "metadata": {},
   "outputs": [
    {
     "data": {
      "image/png": "[encoded data removed]",
      "text/plain": [
       "<Figure size 1400x600 with 2 Axes>"
      ]
     },
     "metadata": {},
     "output_type": "display_data"
    }
   ],
   "source": [
    "import numpy as np\n",
    "import seaborn as sns\n",
    "import matplotlib.pyplot as plt\n",
    "\n",
    "df_merged['LOG_LOS'] = np.log(df_merged['LOS'])\n",
    "\n",
    "fig, axes = plt.subplots(1, 2, figsize=(14, 6))\n",
    "fig.suptitle('Comparison of LOS and Log-Transformed LOS Distributions')\n",
    "\n",
    "sns.histplot(df_merged['LOS'], kde=True, ax=axes[0], color='skyblue')\n",
    "axes[0].set_title('Original LOS (Skewed)')\n",
    "\n",
    "sns.histplot(df_merged['LOG_LOS'], kde=True, ax=axes[1], color='olive')\n",
    "axes[1].set_title('Log-Transformed LOS (More Normal)')\n",
    "\n",
    "plt.tight_layout()\n",
    "plt.show()"
   ]
  },
  {
   "cell_type": "markdown",
   "metadata": {},
   "source": [
    "- Distribution closer to Gaussian distribution, enabling the use of a wider range of models."
   ]
  },
  {
   "cell_type": "markdown",
   "metadata": {},
   "source": [
    "#### **Temporal Framing of ICU Episodes**"
   ]
  },
  {
   "cell_type": "markdown",
   "metadata": {},
   "source": [
    "Three representative ICU stays were manually selected for a 24-hour observation window.  "
   ]
  },
  {
   "cell_type": "code",
   "execution_count": 215,
   "metadata": {},
   "outputs": [
    {
     "data": {
      "text/html": [
       "<div>\n",
       "<style scoped>\n",
       "    .dataframe tbody tr th:only-of-type {\n",
       "        vertical-align: middle;\n",
       "    }\n",
       "\n",
       "    .dataframe tbody tr th {\n",
       "        vertical-align: top;\n",
       "    }\n",
       "\n",
       "    .dataframe thead th {\n",
       "        text-align: right;\n",
       "    }\n",
       "</style>\n",
       "<table border=\"1\" class=\"dataframe\">\n",
       "  <thead>\n",
       "    <tr style=\"text-align: right;\">\n",
       "      <th></th>\n",
       "      <th>ROW_ID</th>\n",
       "      <th>SUBJECT_ID</th>\n",
       "      <th>HADM_ID</th>\n",
       "      <th>ICUSTAY_ID</th>\n",
       "      <th>DBSOURCE</th>\n",
       "      <th>FIRST_CAREUNIT</th>\n",
       "      <th>LAST_CAREUNIT</th>\n",
       "      <th>FIRST_WARDID</th>\n",
       "      <th>LAST_WARDID</th>\n",
       "      <th>INTIME</th>\n",
       "      <th>OUTTIME</th>\n",
       "      <th>LOS</th>\n",
       "    </tr>\n",
       "  </thead>\n",
       "  <tbody>\n",
       "    <tr>\n",
       "      <th>22486</th>\n",
       "      <td>25628</td>\n",
       "      <td>20190</td>\n",
       "      <td>119413</td>\n",
       "      <td>200375</td>\n",
       "      <td>carevue</td>\n",
       "      <td>CCU</td>\n",
       "      <td>CSRU</td>\n",
       "      <td>57</td>\n",
       "      <td>14</td>\n",
       "      <td>2138-10-15 23:22:54</td>\n",
       "      <td>2138-11-11 12:05:15</td>\n",
       "      <td>26.5294</td>\n",
       "    </tr>\n",
       "  </tbody>\n",
       "</table>\n",
       "</div>"
      ],
      "text/plain": [
       "       ROW_ID  SUBJECT_ID  HADM_ID  ICUSTAY_ID DBSOURCE FIRST_CAREUNIT  \\\n",
       "22486   25628       20190   119413      200375  carevue            CCU   \n",
       "\n",
       "      LAST_CAREUNIT  FIRST_WARDID  LAST_WARDID               INTIME  \\\n",
       "22486          CSRU            57           14  2138-10-15 23:22:54   \n",
       "\n",
       "                   OUTTIME      LOS  \n",
       "22486  2138-11-11 12:05:15  26.5294  "
      ]
     },
     "execution_count": 215,
     "metadata": {},
     "output_type": "execute_result"
    }
   ],
   "source": [
    "selected_small_id = 220271\n",
    "selected_mean_id =  284345\n",
    "selected_big_id = 200375\n",
    "\n",
    "icu_info = df_icustays[df_icustays['ICUSTAY_ID'] == selected_big_id]\n",
    "icu_info"
   ]
  },
  {
   "cell_type": "code",
   "execution_count": 216,
   "metadata": {},
   "outputs": [
    {
     "data": {
      "text/plain": [
       "(Timestamp('2138-10-15 23:22:54'), Timestamp('2138-10-16 23:22:54'))"
      ]
     },
     "execution_count": 216,
     "metadata": {},
     "output_type": "execute_result"
    }
   ],
   "source": [
    "starttime = pd.to_datetime(icu_info['INTIME'].iloc[0])\n",
    "endtime = starttime + pd.Timedelta(hours=24)\n",
    "\n",
    "starttime, endtime"
   ]
  },
  {
   "cell_type": "markdown",
   "metadata": {},
   "source": [
    "#### **Chart Data Integration and Availability Assessment**"
   ]
  },
  {
   "cell_type": "markdown",
   "metadata": {},
   "source": [
    "Re-validating the merged dataset post-filtering:"
   ]
  },
  {
   "cell_type": "code",
   "execution_count": 217,
   "metadata": {},
   "outputs": [
    {
     "name": "stdout",
     "output_type": "stream",
     "text": [
      "(295, 14)\n"
     ]
    },
    {
     "data": {
      "text/html": [
       "<div>\n",
       "<style scoped>\n",
       "    .dataframe tbody tr th:only-of-type {\n",
       "        vertical-align: middle;\n",
       "    }\n",
       "\n",
       "    .dataframe tbody tr th {\n",
       "        vertical-align: top;\n",
       "    }\n",
       "\n",
       "    .dataframe thead th {\n",
       "        text-align: right;\n",
       "    }\n",
       "</style>\n",
       "<table border=\"1\" class=\"dataframe\">\n",
       "  <thead>\n",
       "    <tr style=\"text-align: right;\">\n",
       "      <th></th>\n",
       "      <th>SUBJECT_ID</th>\n",
       "      <th>HADM_ID</th>\n",
       "      <th>ICD9_CODE</th>\n",
       "      <th>ADMITTIME</th>\n",
       "      <th>DISCHTIME</th>\n",
       "      <th>ADMISSION_TYPE</th>\n",
       "      <th>ICUSTAY_ID</th>\n",
       "      <th>INTIME</th>\n",
       "      <th>OUTTIME</th>\n",
       "      <th>LOS</th>\n",
       "      <th>GENDER</th>\n",
       "      <th>DOB</th>\n",
       "      <th>age</th>\n",
       "      <th>LOG_LOS</th>\n",
       "    </tr>\n",
       "  </thead>\n",
       "  <tbody>\n",
       "    <tr>\n",
       "      <th>0</th>\n",
       "      <td>114</td>\n",
       "      <td>178393</td>\n",
       "      <td>48283</td>\n",
       "      <td>2146-08-29 01:18:00</td>\n",
       "      <td>2146-09-03 16:06:00</td>\n",
       "      <td>ELECTIVE</td>\n",
       "      <td>258626</td>\n",
       "      <td>2146-08-29 17:59:00</td>\n",
       "      <td>2146-08-31 13:30:00</td>\n",
       "      <td>1.8132</td>\n",
       "      <td>M</td>\n",
       "      <td>2098-05-09</td>\n",
       "      <td>48</td>\n",
       "      <td>0.595093</td>\n",
       "    </tr>\n",
       "    <tr>\n",
       "      <th>1</th>\n",
       "      <td>339</td>\n",
       "      <td>112625</td>\n",
       "      <td>48283</td>\n",
       "      <td>2187-04-20 23:10:00</td>\n",
       "      <td>2187-06-19 13:20:00</td>\n",
       "      <td>EMERGENCY</td>\n",
       "      <td>221278</td>\n",
       "      <td>2187-04-20 23:10:50</td>\n",
       "      <td>2187-05-22 16:01:27</td>\n",
       "      <td>31.7018</td>\n",
       "      <td>F</td>\n",
       "      <td>2120-07-17</td>\n",
       "      <td>67</td>\n",
       "      <td>3.456373</td>\n",
       "    </tr>\n",
       "    <tr>\n",
       "      <th>2</th>\n",
       "      <td>285</td>\n",
       "      <td>165312</td>\n",
       "      <td>48283</td>\n",
       "      <td>2152-09-21 22:47:00</td>\n",
       "      <td>2152-10-20 15:19:00</td>\n",
       "      <td>EMERGENCY</td>\n",
       "      <td>238023</td>\n",
       "      <td>2152-09-21 22:48:50</td>\n",
       "      <td>2152-10-20 15:19:31</td>\n",
       "      <td>28.6880</td>\n",
       "      <td>M</td>\n",
       "      <td>2107-05-16</td>\n",
       "      <td>45</td>\n",
       "      <td>3.356479</td>\n",
       "    </tr>\n",
       "    <tr>\n",
       "      <th>3</th>\n",
       "      <td>605</td>\n",
       "      <td>115545</td>\n",
       "      <td>48283</td>\n",
       "      <td>2197-11-09 12:59:00</td>\n",
       "      <td>2197-11-26 09:36:00</td>\n",
       "      <td>EMERGENCY</td>\n",
       "      <td>248569</td>\n",
       "      <td>2197-11-09 13:00:45</td>\n",
       "      <td>2197-11-26 09:38:48</td>\n",
       "      <td>16.8598</td>\n",
       "      <td>F</td>\n",
       "      <td>1895-04-05</td>\n",
       "      <td>91</td>\n",
       "      <td>2.824932</td>\n",
       "    </tr>\n",
       "    <tr>\n",
       "      <th>4</th>\n",
       "      <td>720</td>\n",
       "      <td>171046</td>\n",
       "      <td>48283</td>\n",
       "      <td>2160-02-15 21:44:00</td>\n",
       "      <td>2160-04-07 13:05:00</td>\n",
       "      <td>EMERGENCY</td>\n",
       "      <td>261862</td>\n",
       "      <td>2160-02-15 21:45:04</td>\n",
       "      <td>2160-04-04 19:57:31</td>\n",
       "      <td>48.9253</td>\n",
       "      <td>F</td>\n",
       "      <td>2108-08-25</td>\n",
       "      <td>52</td>\n",
       "      <td>3.890295</td>\n",
       "    </tr>\n",
       "  </tbody>\n",
       "</table>\n",
       "</div>"
      ],
      "text/plain": [
       "   SUBJECT_ID  HADM_ID ICD9_CODE           ADMITTIME            DISCHTIME  \\\n",
       "0         114   178393     48283 2146-08-29 01:18:00  2146-09-03 16:06:00   \n",
       "1         339   112625     48283 2187-04-20 23:10:00  2187-06-19 13:20:00   \n",
       "2         285   165312     48283 2152-09-21 22:47:00  2152-10-20 15:19:00   \n",
       "3         605   115545     48283 2197-11-09 12:59:00  2197-11-26 09:36:00   \n",
       "4         720   171046     48283 2160-02-15 21:44:00  2160-04-07 13:05:00   \n",
       "\n",
       "  ADMISSION_TYPE  ICUSTAY_ID               INTIME              OUTTIME  \\\n",
       "0       ELECTIVE      258626  2146-08-29 17:59:00  2146-08-31 13:30:00   \n",
       "1      EMERGENCY      221278  2187-04-20 23:10:50  2187-05-22 16:01:27   \n",
       "2      EMERGENCY      238023  2152-09-21 22:48:50  2152-10-20 15:19:31   \n",
       "3      EMERGENCY      248569  2197-11-09 13:00:45  2197-11-26 09:38:48   \n",
       "4      EMERGENCY      261862  2160-02-15 21:45:04  2160-04-04 19:57:31   \n",
       "\n",
       "       LOS GENDER        DOB  age   LOG_LOS  \n",
       "0   1.8132      M 2098-05-09   48  0.595093  \n",
       "1  31.7018      F 2120-07-17   67  3.456373  \n",
       "2  28.6880      M 2107-05-16   45  3.356479  \n",
       "3  16.8598      F 1895-04-05   91  2.824932  \n",
       "4  48.9253      F 2108-08-25   52  3.890295  "
      ]
     },
     "execution_count": 217,
     "metadata": {},
     "output_type": "execute_result"
    }
   ],
   "source": [
    "print(df_merged.shape)\n",
    "df_merged.head()"
   ]
  },
  {
   "cell_type": "markdown",
   "metadata": {},
   "source": [
    "- An SQL query is executed to filter only the chartevents of the admissions with the pneumonia diagnostic into 'pneumonia.csv' for faster and easier access\n",
    "- The filtered subset of the CHARTEVENTS table—specific to the pneumonia cohort is loaded. "
   ]
  },
  {
   "cell_type": "code",
   "execution_count": 218,
   "metadata": {},
   "outputs": [
    {
     "name": "stdout",
     "output_type": "stream",
     "text": [
      "(986962, 15)\n"
     ]
    },
    {
     "data": {
      "text/html": [
       "<div>\n",
       "<style scoped>\n",
       "    .dataframe tbody tr th:only-of-type {\n",
       "        vertical-align: middle;\n",
       "    }\n",
       "\n",
       "    .dataframe tbody tr th {\n",
       "        vertical-align: top;\n",
       "    }\n",
       "\n",
       "    .dataframe thead th {\n",
       "        text-align: right;\n",
       "    }\n",
       "</style>\n",
       "<table border=\"1\" class=\"dataframe\">\n",
       "  <thead>\n",
       "    <tr style=\"text-align: right;\">\n",
       "      <th></th>\n",
       "      <th>ROW_ID</th>\n",
       "      <th>SUBJECT_ID</th>\n",
       "      <th>HADM_ID</th>\n",
       "      <th>ICUSTAY_ID</th>\n",
       "      <th>ITEMID</th>\n",
       "      <th>CHARTTIME</th>\n",
       "      <th>STORETIME</th>\n",
       "      <th>CGID</th>\n",
       "      <th>VALUE</th>\n",
       "      <th>VALUENUM</th>\n",
       "      <th>VALUEUOM</th>\n",
       "      <th>WARNING</th>\n",
       "      <th>ERROR</th>\n",
       "      <th>RESULTSTATUS</th>\n",
       "      <th>STOPPED</th>\n",
       "    </tr>\n",
       "  </thead>\n",
       "  <tbody>\n",
       "    <tr>\n",
       "      <th>0</th>\n",
       "      <td>170754</td>\n",
       "      <td>1709</td>\n",
       "      <td>127294</td>\n",
       "      <td>207018</td>\n",
       "      <td>220052</td>\n",
       "      <td>2118-01-04 12:15:00</td>\n",
       "      <td>2118-01-04 14:22:00</td>\n",
       "      <td>19783.0</td>\n",
       "      <td>124.0</td>\n",
       "      <td>124.0</td>\n",
       "      <td>mmHg</td>\n",
       "      <td>0.0</td>\n",
       "      <td>0.0</td>\n",
       "      <td>NaN</td>\n",
       "      <td>NaN</td>\n",
       "    </tr>\n",
       "    <tr>\n",
       "      <th>1</th>\n",
       "      <td>170755</td>\n",
       "      <td>1709</td>\n",
       "      <td>127294</td>\n",
       "      <td>207018</td>\n",
       "      <td>220210</td>\n",
       "      <td>2118-01-04 12:15:00</td>\n",
       "      <td>2118-01-04 14:22:00</td>\n",
       "      <td>19783.0</td>\n",
       "      <td>30.0</td>\n",
       "      <td>30.0</td>\n",
       "      <td>insp/min</td>\n",
       "      <td>0.0</td>\n",
       "      <td>0.0</td>\n",
       "      <td>NaN</td>\n",
       "      <td>NaN</td>\n",
       "    </tr>\n",
       "    <tr>\n",
       "      <th>2</th>\n",
       "      <td>170756</td>\n",
       "      <td>1709</td>\n",
       "      <td>127294</td>\n",
       "      <td>207018</td>\n",
       "      <td>220277</td>\n",
       "      <td>2118-01-04 12:15:00</td>\n",
       "      <td>2118-01-04 14:22:00</td>\n",
       "      <td>19783.0</td>\n",
       "      <td>96.0</td>\n",
       "      <td>96.0</td>\n",
       "      <td>%</td>\n",
       "      <td>0.0</td>\n",
       "      <td>0.0</td>\n",
       "      <td>NaN</td>\n",
       "      <td>NaN</td>\n",
       "    </tr>\n",
       "    <tr>\n",
       "      <th>3</th>\n",
       "      <td>170757</td>\n",
       "      <td>1709</td>\n",
       "      <td>127294</td>\n",
       "      <td>207018</td>\n",
       "      <td>220179</td>\n",
       "      <td>2118-01-04 12:20:00</td>\n",
       "      <td>2118-01-04 14:22:00</td>\n",
       "      <td>19783.0</td>\n",
       "      <td>148.0</td>\n",
       "      <td>148.0</td>\n",
       "      <td>mmHg</td>\n",
       "      <td>0.0</td>\n",
       "      <td>0.0</td>\n",
       "      <td>NaN</td>\n",
       "      <td>NaN</td>\n",
       "    </tr>\n",
       "    <tr>\n",
       "      <th>4</th>\n",
       "      <td>170758</td>\n",
       "      <td>1709</td>\n",
       "      <td>127294</td>\n",
       "      <td>207018</td>\n",
       "      <td>220180</td>\n",
       "      <td>2118-01-04 12:20:00</td>\n",
       "      <td>2118-01-04 14:22:00</td>\n",
       "      <td>19783.0</td>\n",
       "      <td>69.0</td>\n",
       "      <td>69.0</td>\n",
       "      <td>mmHg</td>\n",
       "      <td>0.0</td>\n",
       "      <td>0.0</td>\n",
       "      <td>NaN</td>\n",
       "      <td>NaN</td>\n",
       "    </tr>\n",
       "  </tbody>\n",
       "</table>\n",
       "</div>"
      ],
      "text/plain": [
       "   ROW_ID  SUBJECT_ID  HADM_ID  ICUSTAY_ID  ITEMID            CHARTTIME  \\\n",
       "0  170754        1709   127294      207018  220052  2118-01-04 12:15:00   \n",
       "1  170755        1709   127294      207018  220210  2118-01-04 12:15:00   \n",
       "2  170756        1709   127294      207018  220277  2118-01-04 12:15:00   \n",
       "3  170757        1709   127294      207018  220179  2118-01-04 12:20:00   \n",
       "4  170758        1709   127294      207018  220180  2118-01-04 12:20:00   \n",
       "\n",
       "             STORETIME     CGID  VALUE  VALUENUM  VALUEUOM  WARNING  ERROR  \\\n",
       "0  2118-01-04 14:22:00  19783.0  124.0     124.0      mmHg      0.0    0.0   \n",
       "1  2118-01-04 14:22:00  19783.0   30.0      30.0  insp/min      0.0    0.0   \n",
       "2  2118-01-04 14:22:00  19783.0   96.0      96.0         %      0.0    0.0   \n",
       "3  2118-01-04 14:22:00  19783.0  148.0     148.0      mmHg      0.0    0.0   \n",
       "4  2118-01-04 14:22:00  19783.0   69.0      69.0      mmHg      0.0    0.0   \n",
       "\n",
       "  RESULTSTATUS STOPPED  \n",
       "0          NaN     NaN  \n",
       "1          NaN     NaN  \n",
       "2          NaN     NaN  \n",
       "3          NaN     NaN  \n",
       "4          NaN     NaN  "
      ]
     },
     "execution_count": 218,
     "metadata": {},
     "output_type": "execute_result"
    }
   ],
   "source": [
    "df_chart_events =  pd.read_csv(data_path + 'd_pneumonia.csv', low_memory=False) \n",
    " \n",
    "print(df_chart_events.shape)      \n",
    "df_chart_events.head()"
   ]
  },
  {
   "cell_type": "markdown",
   "metadata": {},
   "source": [
    "- Joining with chart events measurements. \n",
    "- Stratification of patients into those with vs. without structured chart data."
   ]
  },
  {
   "cell_type": "code",
   "execution_count": 219,
   "metadata": {},
   "outputs": [
    {
     "name": "stdout",
     "output_type": "stream",
     "text": [
      "ICU stays WITH CHARTEVENTS data: 140\n",
      "ICU stays WITHOUT CHARTEVENTS data: 155\n"
     ]
    },
    {
     "data": {
      "text/html": [
       "<div>\n",
       "<style scoped>\n",
       "    .dataframe tbody tr th:only-of-type {\n",
       "        vertical-align: middle;\n",
       "    }\n",
       "\n",
       "    .dataframe tbody tr th {\n",
       "        vertical-align: top;\n",
       "    }\n",
       "\n",
       "    .dataframe thead th {\n",
       "        text-align: right;\n",
       "    }\n",
       "</style>\n",
       "<table border=\"1\" class=\"dataframe\">\n",
       "  <thead>\n",
       "    <tr style=\"text-align: right;\">\n",
       "      <th></th>\n",
       "      <th>SUBJECT_ID</th>\n",
       "      <th>HADM_ID</th>\n",
       "      <th>ICUSTAY_ID</th>\n",
       "      <th>INTIME</th>\n",
       "      <th>ITEMID</th>\n",
       "      <th>VALUENUM</th>\n",
       "      <th>CHARTTIME</th>\n",
       "      <th>VALUEUOM</th>\n",
       "      <th>_merge</th>\n",
       "    </tr>\n",
       "  </thead>\n",
       "  <tbody>\n",
       "    <tr>\n",
       "      <th>0</th>\n",
       "      <td>114</td>\n",
       "      <td>178393</td>\n",
       "      <td>258626</td>\n",
       "      <td>2146-08-29 17:59:00</td>\n",
       "      <td>211.0</td>\n",
       "      <td>72.0</td>\n",
       "      <td>2146-08-30 10:00:00</td>\n",
       "      <td>BPM</td>\n",
       "      <td>both</td>\n",
       "    </tr>\n",
       "    <tr>\n",
       "      <th>1</th>\n",
       "      <td>114</td>\n",
       "      <td>178393</td>\n",
       "      <td>258626</td>\n",
       "      <td>2146-08-29 17:59:00</td>\n",
       "      <td>581.0</td>\n",
       "      <td>102.0</td>\n",
       "      <td>2146-08-30 10:00:00</td>\n",
       "      <td>kg</td>\n",
       "      <td>both</td>\n",
       "    </tr>\n",
       "    <tr>\n",
       "      <th>2</th>\n",
       "      <td>114</td>\n",
       "      <td>178393</td>\n",
       "      <td>258626</td>\n",
       "      <td>2146-08-29 17:59:00</td>\n",
       "      <td>618.0</td>\n",
       "      <td>20.0</td>\n",
       "      <td>2146-08-30 10:00:00</td>\n",
       "      <td>BPM</td>\n",
       "      <td>both</td>\n",
       "    </tr>\n",
       "    <tr>\n",
       "      <th>3</th>\n",
       "      <td>114</td>\n",
       "      <td>178393</td>\n",
       "      <td>258626</td>\n",
       "      <td>2146-08-29 17:59:00</td>\n",
       "      <td>646.0</td>\n",
       "      <td>98.0</td>\n",
       "      <td>2146-08-30 10:00:00</td>\n",
       "      <td>%</td>\n",
       "      <td>both</td>\n",
       "    </tr>\n",
       "    <tr>\n",
       "      <th>4</th>\n",
       "      <td>114</td>\n",
       "      <td>178393</td>\n",
       "      <td>258626</td>\n",
       "      <td>2146-08-29 17:59:00</td>\n",
       "      <td>676.0</td>\n",
       "      <td>38.0</td>\n",
       "      <td>2146-08-30 10:00:00</td>\n",
       "      <td>Deg. C</td>\n",
       "      <td>both</td>\n",
       "    </tr>\n",
       "  </tbody>\n",
       "</table>\n",
       "</div>"
      ],
      "text/plain": [
       "   SUBJECT_ID  HADM_ID  ICUSTAY_ID               INTIME  ITEMID  VALUENUM  \\\n",
       "0         114   178393      258626  2146-08-29 17:59:00   211.0      72.0   \n",
       "1         114   178393      258626  2146-08-29 17:59:00   581.0     102.0   \n",
       "2         114   178393      258626  2146-08-29 17:59:00   618.0      20.0   \n",
       "3         114   178393      258626  2146-08-29 17:59:00   646.0      98.0   \n",
       "4         114   178393      258626  2146-08-29 17:59:00   676.0      38.0   \n",
       "\n",
       "             CHARTTIME VALUEUOM _merge  \n",
       "0  2146-08-30 10:00:00      BPM   both  \n",
       "1  2146-08-30 10:00:00       kg   both  \n",
       "2  2146-08-30 10:00:00      BPM   both  \n",
       "3  2146-08-30 10:00:00        %   both  \n",
       "4  2146-08-30 10:00:00   Deg. C   both  "
      ]
     },
     "execution_count": 219,
     "metadata": {},
     "output_type": "execute_result"
    }
   ],
   "source": [
    "# 1. Merge df_merged with CHARTEVENTS (left join to preserve all ICU stays)\n",
    "df_merged_with_chartevents = pd.merge(\n",
    "    df_merged[['SUBJECT_ID', 'HADM_ID', 'ICUSTAY_ID','INTIME']],  # Key columns\n",
    "    df_chart_events[['SUBJECT_ID', 'HADM_ID', 'ICUSTAY_ID', 'ITEMID', 'VALUENUM','CHARTTIME','VALUEUOM']].drop_duplicates(),\n",
    "    on=['SUBJECT_ID', 'HADM_ID', 'ICUSTAY_ID'],\n",
    "    how='left',\n",
    "    indicator=True  # Adds a column '_merge' to show match status\n",
    ")\n",
    "\n",
    "# 2. Identify ICU stays with/without CHARTEVENTS\n",
    "has_chartevents = df_merged_with_chartevents['_merge'] == 'both'\n",
    "no_chartevents = df_merged_with_chartevents['_merge'] == 'left_only'\n",
    "\n",
    "# 3. Get the lists of ICUSTAY_IDs\n",
    "icu_with_data = df_merged_with_chartevents[has_chartevents]['ICUSTAY_ID'].unique()\n",
    "icu_without_data = df_merged_with_chartevents[no_chartevents]['ICUSTAY_ID'].unique()\n",
    "\n",
    "print(f\"ICU stays WITH CHARTEVENTS data: {len(icu_with_data)}\")\n",
    "print(f\"ICU stays WITHOUT CHARTEVENTS data: {len(icu_without_data)}\")\n",
    "\n",
    "df_merged_with_chartevents.head()"
   ]
  },
  {
   "cell_type": "markdown",
   "metadata": {},
   "source": [
    "- We can only use the ICU stays with chartevents (140), filtering out the rest"
   ]
  }
 ],
 "metadata": {
  "kernelspec": {
   "display_name": ".venv",
   "language": "python",
   "name": "python3"
  },
  "language_info": {
   "codemirror_mode": {
    "name": "ipython",
    "version": 3
   },
   "file_extension": ".py",
   "mimetype": "text/x-python",
   "name": "python",
   "nbconvert_exporter": "python",
   "pygments_lexer": "ipython3",
   "version": "3.13.1"
  }
 },
 "nbformat": 4,
 "nbformat_minor": 2
}
